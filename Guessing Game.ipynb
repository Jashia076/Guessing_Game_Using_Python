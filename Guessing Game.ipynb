{
 "cells": [
  {
   "cell_type": "markdown",
   "id": "811345ff",
   "metadata": {},
   "source": [
    "## It's a guessing game where a user needs to guess a random number from 1 to 100. The program will help the user whether they need to range higher or lower. If the user guessed it right, the program would congratulate him. At the same time, the program would show the number of attempt the user took."
   ]
  },
  {
   "cell_type": "code",
   "execution_count": 1,
   "id": "0311bd40",
   "metadata": {},
   "outputs": [
    {
     "name": "stdout",
     "output_type": "stream",
     "text": [
      "Guess an integer number from 1 to 100: 5\n",
      "Guess higher than 5 : 50\n",
      "Guess lower than 50 : 25\n",
      "Guess higher than 25 : 39\n",
      "Guess higher than 39 : 45\n",
      "Guess higher than 45 : 48\n",
      "Congratulations!  48  is the correct guess.\n",
      "You took 6 times. Better luck next time.\n"
     ]
    }
   ],
   "source": [
    "import random # Imports the feature of random number\n",
    "jackpot = random.randint(1,100) # Including the numbers 1 & 100\n",
    "\n",
    "# Taking user input \n",
    "\n",
    "counter = 0 # Creates a variable for counting the user attempt\n",
    "number = int(input(\"Guess an integer number from 1 to 100: \")) # Takes input and converts it to integer directly\n",
    "counter += 1 # counter = counter + 1\n",
    "\n",
    "#Coding part:\n",
    "\n",
    "while number != jackpot:\n",
    "    if number < 1 or number > 100: # Making sure the user gives the right input\n",
    "        number = int(input(\"Kindly guess the integer number from 1 to 100: \"))\n",
    "        counter += 1 # counter = counter + 1\n",
    "    else:\n",
    "        if number > jackpot:\n",
    "            number = int(input(\"Guess lower than \" + str(number) + \" : \"))\n",
    "            counter += 1 # counter = counter + 1\n",
    "        else:\n",
    "            number = int(input(\"Guess higher than \" + str(number) + \" : \"))\n",
    "            counter += 1 # counter = counter + 1\n",
    "else:\n",
    "    print(\"Congratulations! \", number, \" is the correct guess.\")\n",
    "    print(\"You took \" + str(counter) + \" times. Better luck next time.\")"
   ]
  },
  {
   "cell_type": "code",
   "execution_count": null,
   "id": "284b7def",
   "metadata": {},
   "outputs": [],
   "source": []
  }
 ],
 "metadata": {
  "kernelspec": {
   "display_name": "Python 3 (ipykernel)",
   "language": "python",
   "name": "python3"
  },
  "language_info": {
   "codemirror_mode": {
    "name": "ipython",
    "version": 3
   },
   "file_extension": ".py",
   "mimetype": "text/x-python",
   "name": "python",
   "nbconvert_exporter": "python",
   "pygments_lexer": "ipython3",
   "version": "3.11.3"
  }
 },
 "nbformat": 4,
 "nbformat_minor": 5
}
